{
 "cells": [
  {
   "cell_type": "code",
   "execution_count": null,
   "id": "1eb7fd4f-f08c-48a0-9fc3-ea8e789728eb",
   "metadata": {},
   "outputs": [],
   "source": []
  }
 ],
 "metadata": {
  "kernelspec": {
   "display_name": "",
   "name": ""
  },
  "language_info": {
   "name": ""
  }
 },
 "nbformat": 4,
 "nbformat_minor": 5
}
